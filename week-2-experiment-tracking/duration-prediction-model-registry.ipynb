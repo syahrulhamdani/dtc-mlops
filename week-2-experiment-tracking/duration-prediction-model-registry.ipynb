{
 "cells": [
  {
   "cell_type": "code",
   "execution_count": 1,
   "id": "0a073e84-1035-499a-9ec3-865ec472eb59",
   "metadata": {},
   "outputs": [],
   "source": [
    "from mlflow.entities import ViewType\n",
    "from mlflow.tracking import MlflowClient"
   ]
  },
  {
   "cell_type": "code",
   "execution_count": 2,
   "id": "5dfaded6-59de-42d9-b6f1-5498082abb13",
   "metadata": {},
   "outputs": [],
   "source": [
    "MLFLOW_BACKEND_URI = \"sqlite:///mlflow.db\""
   ]
  },
  {
   "cell_type": "code",
   "execution_count": 3,
   "id": "8949c679-98e8-4d77-a31c-2ef1b20cde4f",
   "metadata": {},
   "outputs": [],
   "source": [
    "client = MlflowClient(MLFLOW_BACKEND_URI)"
   ]
  },
  {
   "cell_type": "code",
   "execution_count": 20,
   "id": "cd615d26-09e6-4161-ab4c-9cf7fdf5e026",
   "metadata": {},
   "outputs": [
    {
     "data": {
      "text/plain": [
       "[<Experiment: artifact_location='./mlruns/0', experiment_id='0', lifecycle_stage='active', name='Default', tags={}>,\n",
       " <Experiment: artifact_location='./mlruns/1', experiment_id='1', lifecycle_stage='active', name='nyc-taxi-experiment', tags={}>,\n",
       " <Experiment: artifact_location='./mlruns/2', experiment_id='2', lifecycle_stage='active', name='green-taxi-experiment', tags={}>,\n",
       " <Experiment: artifact_location='./mlruns/3', experiment_id='3', lifecycle_stage='active', name='random-forest-hyperopt', tags={}>,\n",
       " <Experiment: artifact_location='./mlruns/4', experiment_id='4', lifecycle_stage='active', name='random-forest-best-models', tags={}>]"
      ]
     },
     "execution_count": 20,
     "metadata": {},
     "output_type": "execute_result"
    }
   ],
   "source": [
    "experiments = client.list_experiments()\n",
    "experiments"
   ]
  },
  {
   "cell_type": "code",
   "execution_count": 16,
   "id": "f34b1635-130f-41dd-93f7-09615faa04f2",
   "metadata": {},
   "outputs": [],
   "source": [
    "runs = client.search_runs(\n",
    "    experiment_ids=3,\n",
    "    filter_string=\"\",\n",
    "    run_view_type=ViewType.ACTIVE_ONLY,\n",
    "    max_results=5,\n",
    "    order_by=[\"metrics.val_rmse ASC\"]\n",
    ")"
   ]
  },
  {
   "cell_type": "code",
   "execution_count": 28,
   "id": "fe854673-ba33-40f2-8628-03c56f692de6",
   "metadata": {},
   "outputs": [
    {
     "name": "stdout",
     "output_type": "stream",
     "text": [
      "run_id: 41b4414d6d76429297b5013a791b7260, valid_rmse: 6.6284257482044735\n",
      "run_id: bcfcbd1d9f6e495493a5f4942e9b909c, valid_rmse: 6.629728007710133\n",
      "run_id: 747de0ee1bb447419235c378c2fcd094, valid_rmse: 6.629851022038263\n",
      "run_id: 5021c883937f4514968dc41e3def27cd, valid_rmse: 6.629851022038263\n",
      "run_id: 32d0bfb69bbe4c0493a17ce77aa09ddf, valid_rmse: 6.629893219637507\n"
     ]
    }
   ],
   "source": [
    "for run in runs:\n",
    "    print(f\"run_id: {run.info.run_id}, valid_rmse: {run.data.metrics['val_rmse']}\")"
   ]
  },
  {
   "cell_type": "code",
   "execution_count": 24,
   "id": "90dcfe3a-cae9-463b-8655-56fdc3455dac",
   "metadata": {},
   "outputs": [
    {
     "data": {
      "text/plain": [
       "<RegisteredModel: creation_timestamp=1653928738179, description='NYC Taxi predictor for trip duration', last_updated_timestamp=1653928986718, latest_versions=[<ModelVersion: creation_timestamp=1653928745065, current_stage='Staging', description='', last_updated_timestamp=1653928986718, name='nyc-taxi-regressor', run_id='cfddd0c94e074c2ab2d8b132d3bad31f', run_link='', source='./mlruns/1/cfddd0c94e074c2ab2d8b132d3bad31f/artifacts/models', status='READY', status_message=None, tags={'model': 'xgboost'}, user_id=None, version=2>], name='nyc-taxi-regressor', tags={}>"
      ]
     },
     "execution_count": 24,
     "metadata": {},
     "output_type": "execute_result"
    }
   ],
   "source": [
    "registered_model = client.list_registered_models()[0]\n",
    "registered_model"
   ]
  },
  {
   "cell_type": "code",
   "execution_count": 44,
   "id": "0fa3f503-5542-47a4-90a5-030e680b4410",
   "metadata": {},
   "outputs": [
    {
     "name": "stdout",
     "output_type": "stream",
     "text": [
      "1 Staging\n",
      "2 Staging\n"
     ]
    }
   ],
   "source": [
    "model_name = \"nyc-taxi-regressor\"\n",
    "versions = client.search_model_versions(f\"name='{model_name}'\")\n",
    "\n",
    "for version in versions:\n",
    "    print(version.version, version.current_stage)"
   ]
  }
 ],
 "metadata": {
  "kernelspec": {
   "display_name": "Python 3 (ipykernel)",
   "language": "python",
   "name": "python3"
  },
  "language_info": {
   "codemirror_mode": {
    "name": "ipython",
    "version": 3
   },
   "file_extension": ".py",
   "mimetype": "text/x-python",
   "name": "python",
   "nbconvert_exporter": "python",
   "pygments_lexer": "ipython3",
   "version": "3.9.12"
  }
 },
 "nbformat": 4,
 "nbformat_minor": 5
}
